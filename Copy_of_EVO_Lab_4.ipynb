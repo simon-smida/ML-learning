{
  "nbformat": 4,
  "nbformat_minor": 0,
  "metadata": {
    "colab": {
      "provenance": [],
      "gpuType": "T4",
      "include_colab_link": true
    },
    "kernelspec": {
      "name": "python3",
      "display_name": "Python 3"
    },
    "language_info": {
      "name": "python"
    },
    "accelerator": "GPU"
  },
  "cells": [
    {
      "cell_type": "markdown",
      "metadata": {
        "id": "view-in-github",
        "colab_type": "text"
      },
      "source": [
        "<a href=\"https://colab.research.google.com/github/simon-smida/ML-learning/blob/main/Copy_of_EVO_Lab_4.ipynb\" target=\"_parent\"><img src=\"https://colab.research.google.com/assets/colab-badge.svg\" alt=\"Open In Colab\"/></a>"
      ]
    },
    {
      "cell_type": "markdown",
      "source": [
        "<p align=\"center\">\n",
        "<img src=\"https://drive.google.com/uc?id=10fVwhdoDJXnRYyJ4UtAnDfUcR2qpI15Y\" width=\"200\">\n",
        "</p>\n",
        "\n",
        "<h1>EVO: cvičení 4 - Optimalizace parametrů neuronových sítí pro klasifikaci obrazu</h1>\n",
        "\n",
        "<h2>Řešená úloha - Problém rozpoznávání a klasifikace obrazu</h2>\n",
        "\n",
        "Jedna z možností, jak realizovat rozpoznávání objektů v obraze, v našem případě ručně psané číslice, představuje využití tzv. umělých neuronových sítí. Přesněji pak konvolučních neuronových sítí (KNN). U takových sítí je třeba pro správnou funkci (správnou identifikaci ručně psaných číslic) nastavit celou řadu parametrů.\n",
        "\n",
        "Ve své podstatě se tedy jedná o multikriteriální optimalizaci. V přijatelném čase je tento problém hrubou silou velmi těžko řešitelný. Nicméně lze v tomto případě s výhodou použít vhodné evoluční technicky. My se na tento problém podíváme po stránce možného využití diferenciální evoluce, jejíž úkolem bude provádět optimalizaci parametrů neuronové sítě za účelem dosažení co možná nejvyšší úspěšnosti v klasifikační úloze.\n",
        "\n",
        "___\n",
        "<h2>MNIST</h2>\n",
        "\n",
        "Data, která využijeme pro trénování a testování neuronové sítě pochází z datové sady [MNIST](http://yann.lecun.com/exdb/mnist/). Ukázka testovacích/trénovacích obrázků z tohoto datasetu je uvedena níže:\n",
        "\n",
        "<p align=\"center\">\n",
        "<img src=\"https://drive.google.com/uc?id=1A0jEjDgA9WsggkUQhDR7w0Wsrw24OIU7\" width=\"300\">\n",
        "</p>\n",
        "\n",
        "* Datový soubor MNIST te tvořen obrázky o rozměru 28 x 28 pixelů.\n",
        "* Každý bod je interpretován jako tzv. gray-scale odstín na 8 bitech.\n",
        "* Trénovací množinu tvoří sada 60 000 obrázků a k nim příslušné označení třídy.\n",
        "* Stejnou strukturu, tedy páry obrázek - třída, mají v počtu 10 000 vzorů i testovací data.\n",
        "\n",
        "S ohledem na poměrně velkou výpočetní náročnost nebudeme pro trénování neuronové sítě a následnou klasifikaci používat sadu MNIST v plném rozsahu, ale bude třeba zvolit významně menší vzorek dat - např. 200 obrázků pro trénování a 100 pro otestování přesnosti klasifikace.\n",
        "\n",
        "___\n",
        "<h2>Konvoluční neuronové sítě</h2>\n",
        "\n",
        "* Typ umělé neuronové sítě vhodný pro zpracování obrazových dat (lokálnost a poziční invariance).\n",
        "* Zpravidla tvořeny prokládáním konvolučních a pooling vrstev. Poslední vrstvy jsou pak plně propojeny.\n",
        "* Z low-level příznaků jsou postupně budovány příznaky na vyšších úrovních.\n",
        "* Neuronové sítě jsou zpravidla trénovány pomocí metod gradientního sestupu. (Aplikace evolučních algoritmů přímo pro trénování vah nepřináší lepší výsledky.)\n",
        "\n",
        "<p align=\"center\">\n",
        "<img src=\"https://drive.google.com/uc?id=121RGlwCo2FW1zLkCTj164BqtUpqCSeZl\" width=\"600\">\n",
        "</p>\n",
        "\n",
        "<h3>Konvoluční vrstva</h3>\n",
        "\n",
        "* Konvoluce pomáhá najít vzory v obraze na základě kernelu.\n",
        "* Trénovaný parametr jsou hodnoty kernelu.\n",
        "\n",
        "<p align=\"center\">\n",
        "<img src=\"https://drive.google.com/uc?id=1i6DSSC-zmcLafq_PCmz2rzE46EJUwKsN\" width=\"300\">\n",
        "</p>\n",
        "\n",
        "<h3>Pooling vrstva</h3>\n",
        "\n",
        "* Slouží k podvzorkování obrazu, kdy lokální pixely jsou agregovány do jednoho.\n",
        "* Zmenšením velikosti snižuje výpočetní nároky.\n",
        "* Zpravidla použití průměrné či maximální hodnoty.\n",
        "\n",
        "<p align=\"center\">\n",
        "<img src=\"https://drive.google.com/uc?id=1DHl_a-IpVs-x8842l-wQUEPkILuVFHcd\" width=\"300\">\n",
        "</p>\n",
        "\n",
        "<h3>Plně propojená vrstva</h3>\n",
        "\n",
        "* Skládá se z neuronů, kdy každý neuron je propojen se všemi výstupy předešlé vrstvy.\n",
        "* Trénované parametry jsou váhy a biasy neuronů.\n",
        "\n",
        "<h3>Dropout vrstva</h3>\n",
        "\n",
        "* Pro dosažení dobře generalizujícího modelu se v průběhu trénování může použít dropout vrstva, která vypíná část neuronů.\n",
        "\n",
        "___\n",
        "<h2>Diferenciální evoluce</h2>\n",
        "\n",
        "* Metoda sloužící k optimalizace vícedimenzionálních reálných hodnot.\n",
        "* Nevyužívá gradient problému a nevyžaduje tedy diferencovatelný problém jako například metoda gradientního sestupu. Lze ji tedy použít i na optimalizaci nespojitých, zašumělých nebo měnících se problémů.\n",
        "* DE optimalizuje problém pomocí populace kandidátních řešení, vytvářením nových kandidátních řešení kombinací stávajících podle jednoduchého vzorce a ponecháním těch, která mají nejlepší fitness.\n",
        "* Algoritmus lze nejlépe pochopit podle následujícího kódu:\n",
        "\n",
        "```\n",
        "do {\n",
        "    // Projiti pres vsechny kandidatni reseni\n",
        "    for (i=0; i < Np; i++) {\n",
        "\n",
        "        // Ziskani tri unikatnich reseni na jinem nez aktualnim indexu\n",
        "        do r1 = floor(rand(0, 1) * NP); while (r1 == i);\n",
        "        do r2 = floor(rand(0, 1) * NP); while (r2 == r1 or r2 == i);\n",
        "        do r3 = floor(rand(0, 1) * NP); while (r3 == r2 or r3 == r1 or r3 == i);\n",
        "        \n",
        "        // Ziskani dimenze, ktera bude s jistotou krizena\n",
        "        jrand = floor(D*rand(0,1));\n",
        "        \n",
        "        // Postupne vygenerovani trial vektoru pres jednotlive dimenze\n",
        "        for (j=0; j < D; j++) {\n",
        "\n",
        "            // S danou pravdepodobnosti pouzij mutovanou hodnotu\n",
        "            if (rand(0,1) <= Cr or j==jrand) {\n",
        "                u[i][j] = x[r1][j] + F * (x[r2][j] - x[r3][j]);\n",
        "            }\n",
        "            // Pouziti puvodni hodnoty\n",
        "            else {\n",
        "                u[i][j] = x[i][j];\n",
        "            }\n",
        "        }\n",
        "    }\n",
        "\n",
        "    // Ohodnot trial vektory a ponech nejlepsi reseni\n",
        "    for (i=0; i < Np; i++) {\n",
        "        if (f(u[i]) <= f(x[i])) {\n",
        "            x[i] = u[i];\n",
        "        }\n",
        "    }\n",
        "\n",
        "} while (nejsou splneny ukoncovaci podminky);\n",
        "```\n",
        "\n",
        "<p align=\"center\">\n",
        "<img src=\"https://drive.google.com/uc?id=11vx0Lt_kHKfRGqxN4tbLwX7z-zDtW2je\" width=\"500\">\n",
        "</p>\n",
        "\n",
        "\n",
        "\n",
        "\n",
        "___\n",
        "<h2>Úkoly</h2>\n",
        "\n",
        "1. Seznámit se se základy konvolučních neuronových sítí, diferenciální evoluce a použité datové sady MNIST.\n",
        "2. Seznámit se s implementací diferenciální evoluce a jejího aplikování na optimalizaci parametrů konvoluční neuronové sítě.\n",
        "3. Doplňte kód mutace v implementaci diferenciální evoluce.\n",
        "4. Pomocí experimentů zjistěte vhodné nastavení paramaterů diferenciální evoluce pro nalezení KNN s minimální chybou.\n",
        "5. Uložte si nejlepší nalezené parametry a výsledky získané za jejich pomocí.\n",
        "6. Použijte optimalizované parametry pro natrénování a otestování sítě na kompletní datové sadě MNIST a uložte si získané výsledky.\n",
        "7. Zkuste upravit funkci `obj()` za účelem minimalizace počtu parametrů neuronové sítě.\n",
        "\n",
        "___"
      ],
      "metadata": {
        "id": "nT_MWzGzmHqY"
      }
    },
    {
      "cell_type": "markdown",
      "source": [
        "Import potřebných knihoven."
      ],
      "metadata": {
        "id": "jFFzCbwUtg_v"
      }
    },
    {
      "cell_type": "code",
      "source": [
        "from tqdm import tqdm\n",
        "\n",
        "from numpy import asarray, clip, argmin, min, round, expand_dims, round, minimum, maximum, rint\n",
        "from numpy.random import rand, choice, randint\n",
        "\n",
        "from tensorflow import keras\n",
        "from keras import Input\n",
        "from keras.datasets import mnist\n",
        "from keras.layers import Conv2D, MaxPooling2D, Flatten, Dropout, Dense\n",
        "from keras.models import Sequential\n",
        "from keras.utils import to_categorical\n",
        "from keras.callbacks import EarlyStopping\n",
        "\n",
        "import matplotlib.pyplot as plt"
      ],
      "metadata": {
        "id": "FuzwcGjPtP8M"
      },
      "execution_count": 1,
      "outputs": []
    },
    {
      "cell_type": "markdown",
      "source": [
        "Příprava datasetu MNIST pro trénování a následné testování KNN."
      ],
      "metadata": {
        "id": "uVoRb-o-QeNH"
      }
    },
    {
      "cell_type": "code",
      "source": [
        "def prep_dataset(train_size, test_size):\n",
        "    # Pocet trid datasetu a pouzita cast dat\n",
        "    num_classes = 10\n",
        "\n",
        "    # Nacteni trenovacich a testovacich dat\n",
        "    (x_train, y_train), (x_test, y_test) = mnist.load_data()\n",
        "\n",
        "    # Omezeni poctu prvku na zadany pocet\n",
        "    x_train = x_train[:train_size]\n",
        "    y_train = y_train[:train_size]\n",
        "    x_test = x_test[:test_size]\n",
        "    y_test = y_test[:test_size]\n",
        "\n",
        "    # Prevedeni vstupu z 0 az 255 na 0 az 1\n",
        "    x_train = x_train.astype(\"float32\") / 255\n",
        "    x_test = x_test.astype(\"float32\") / 255\n",
        "\n",
        "    # Overeni velikosti dat\n",
        "    x_train = expand_dims(x_train, -1)\n",
        "    x_test = expand_dims(x_test, -1)\n",
        "\n",
        "    # Tisk informaci o datasetu\n",
        "    print(\"Input shape:\", x_train.shape[1:4])\n",
        "    print('Train samples:', x_train.shape[0])\n",
        "    print('Test samples:', x_test.shape[0])\n",
        "\n",
        "    # Prevod cilovych dat na one-hot-encoding\n",
        "    y_train = to_categorical(y_train, num_classes)\n",
        "    y_test = to_categorical(y_test, num_classes)\n",
        "\n",
        "    # Navraceni pole s potrebnymi udaji (pocet trid, tvar vstupnich vektoru, trenovaci a testovaci data)\n",
        "    return num_classes, x_train.shape[1:4], x_train, y_train, x_test, y_test"
      ],
      "metadata": {
        "id": "I-RJfF5fRaZN"
      },
      "execution_count": 2,
      "outputs": []
    },
    {
      "cell_type": "markdown",
      "source": [
        "Vytvoření model KNN podle zadaných parametrů."
      ],
      "metadata": {
        "id": "32SZsUaRoUVv"
      }
    },
    {
      "cell_type": "code",
      "source": [
        "def compile_model(params, num_classes, input_shape):\n",
        "\n",
        "    # Zaokrouhleni hodnot pro pouziti v Keras\n",
        "    r_params = rint(params).astype(int)\n",
        "\n",
        "    # Vytvoreni sekvencniho modelu\n",
        "    model = Sequential()\n",
        "\n",
        "    # Prvni vstupni vrstva\n",
        "    model.add(Input(shape=input_shape))\n",
        "\n",
        "    # Prvni vrstva konvoluce a poolingu\n",
        "    model.add(Conv2D(r_params[0], kernel_size=(r_params[1], r_params[2]), activation=\"relu\"))\n",
        "    model.add(MaxPooling2D(pool_size=(r_params[3], r_params[4])))\n",
        "\n",
        "    # Druha vrstva konvoluce a poolingu\n",
        "    if int(r_params[14]) >= 1:\n",
        "        model.add(Conv2D(r_params[5], kernel_size=(r_params[6], r_params[7]), activation=\"relu\"))\n",
        "        model.add(MaxPooling2D(pool_size=(r_params[8], r_params[9])))\n",
        "\n",
        "    # Zplosteni site a doplnkova Dropout vrstva\n",
        "    model.add(Flatten())\n",
        "    model.add(Dropout(params[10]))\n",
        "\n",
        "    # Posledni vystupni vrstva\n",
        "    model.add(Dense(num_classes, activation=\"softmax\"))\n",
        "\n",
        "    return model"
      ],
      "metadata": {
        "id": "Gf37JiEhme-6"
      },
      "execution_count": 3,
      "outputs": []
    },
    {
      "cell_type": "markdown",
      "source": [
        "Trénovaní zadané neuronové sítě a získání výsledné přesnosti."
      ],
      "metadata": {
        "id": "8yxEsQ1dQohR"
      }
    },
    {
      "cell_type": "code",
      "source": [
        "def train(params, num_classes, input_shape, x_train, y_train):\n",
        "\n",
        "    try:\n",
        "        # Ziskani modelu KNN\n",
        "        model = compile_model(params, num_classes, input_shape)\n",
        "\n",
        "    except:\n",
        "        # Pokud sit neni mozne vytvorit, je parametrum udelena fitness nekonecno\n",
        "        return float(\"inf\"), None\n",
        "\n",
        "    # Nastaveni velikosti batch a poctu epoch\n",
        "    batch_size = rint(params[11]).astype(int)\n",
        "    epochs = rint(params[12]).astype(int)\n",
        "\n",
        "    # Call-back pro pripadne vcasne ukonceni\n",
        "    callback = EarlyStopping(monitor='loss', patience=params[13])\n",
        "\n",
        "    # Vytvornei site\n",
        "    model.compile(loss=\"categorical_crossentropy\", optimizer=\"adam\", metrics=[\"accuracy\"])\n",
        "\n",
        "    # Trenovani site\n",
        "    res = model.fit(x_train, y_train, batch_size=batch_size, epochs=epochs, validation_split=0.1, callbacks=[callback], verbose=0)#, use_multiprocessing=True)\n",
        "\n",
        "    # Vraceni chyby vysledne site\n",
        "    return res.history['val_loss'][-1], model"
      ],
      "metadata": {
        "id": "IStTH3f6MzDh"
      },
      "execution_count": 4,
      "outputs": []
    },
    {
      "cell_type": "markdown",
      "source": [
        "Algoritmus diferenciální evoluce."
      ],
      "metadata": {
        "id": "eENwdFhqQwE7"
      }
    },
    {
      "cell_type": "code",
      "source": [
        "class DE():\n",
        "    # Inicializace a ulozeni velikosti populace, poctu a rozsahu optimalizovanych hodnot, pravdepodobnosti krizeni a koeficientu F\n",
        "    def __init__(self, pop_size, cr, F, train_size, test_size, bounds):\n",
        "\n",
        "        if pop_size < 4:\n",
        "            print('Pop size set to minimal value of 4.')\n",
        "        self.pop_size = maximum(4, pop_size)\n",
        "\n",
        "        if cr < 0.0 or cr > 1.0:\n",
        "            print('cr clipped to allowed range [0;1].')\n",
        "        self.cr = maximum(0.0, minimum(1.0, cr))\n",
        "\n",
        "        if F < 0.0 or F > 1.0:\n",
        "            print('F clipped to allowed range [0;1].')\n",
        "        self.F = maximum(0.0, minimum(1.0, F))\n",
        "\n",
        "        self.bounds = bounds\n",
        "\n",
        "        # Nacteni datasetu\n",
        "        self.num_classes, self.input_shape, self.x_train, self.y_train, self.x_test, self.y_test = prep_dataset(train_size, test_size)\n",
        "\n",
        "    # Ziskani fitness kandidatniho jedince\n",
        "    def obj(self, x):\n",
        "        result = train(x, self.num_classes, self.input_shape, self.x_train, self.y_train)\n",
        "        return result\n",
        "\n",
        "    # Operator krizeni\n",
        "    def crossover(self, r1, r2, r3, target):\n",
        "\n",
        "        # Size of vector\n",
        "        dims = len(target)\n",
        "\n",
        "        # TODO provedeni mutace\n",
        "        mutated = r1 + self.F * (r2 - r3)\n",
        "\n",
        "        # Zajisteni hranicnich hodnot\n",
        "        mutated = [clip(mutated[i], self.bounds[i, 0], self.bounds[i, 1]) for i in range(len(self.bounds))]\n",
        "\n",
        "        # Ziskani nahodne hodnoty pro kazdy optimalizovany parametr\n",
        "        p = rand(dims)\n",
        "\n",
        "        # Zaruceni alespon jednoho krizeni\n",
        "        jrand = randint(0, dims)\n",
        "\n",
        "        # Generovani trial vektoru pomoci krizeni\n",
        "        trial = [mutated[i] if (p[i] < self.cr or i == jrand) else target[i] for i in range(dims)]\n",
        "        return trial\n",
        "\n",
        "    # Samotny algoritmus diferencialni evoluce\n",
        "    def differential_evolution(self, iter):\n",
        "        # Nahodna inicializace populace kandidatnich reseni v ramci zadanych hranic parametru\n",
        "        pop = self.bounds[:, 0] + (rand(self.pop_size, len(self.bounds)) * (self.bounds[:, 1] - self.bounds[:, 0])).astype(float)\n",
        "\n",
        "        # Evaluace pocatecni populace kandidatnich reseni\n",
        "        print('Start of initial evaluation...')\n",
        "        obj_all, trained_nets = map(list, zip(*[self.obj(ind) for ind in pop]))\n",
        "\n",
        "        # Vektor trial vektoru k vyhodnoceni\n",
        "        trial_vectors = [[float] * len(self.bounds)] * self.pop_size\n",
        "\n",
        "        # Nalezeni reseni s nejmensi hodnotou chyby a jeho ulozeni\n",
        "        best_vector = pop[argmin(obj_all)]\n",
        "        best_obj = min(obj_all)\n",
        "        prev_obj = best_obj\n",
        "        best_net = trained_nets[argmin(obj_all)]\n",
        "\n",
        "        print('Initial evaluation done.')\n",
        "\n",
        "        # Inicializace listu fitness v prubehu iteraci\n",
        "        obj_iter = list()\n",
        "\n",
        "        # Hlavni smycka algoritmu\n",
        "        for i in range(iter):\n",
        "\n",
        "            print('Iteration #', i)\n",
        "            pbar = tqdm(total=self.pop_size, position=0, leave=True)\n",
        "\n",
        "            # Ziskani trial vektoru\n",
        "            for j in range(self.pop_size):\n",
        "\n",
        "                # Vybrani tri jinych kandidatnich reseni: r1, r2, r3\n",
        "                candidates = [candidate for candidate in range(self.pop_size) if candidate != j]\n",
        "                r1, r2, r3 = pop[choice(candidates, 3, replace=False)]\n",
        "\n",
        "                # Provedeni krizeni\n",
        "                trial_vectors[j] = self.crossover(r1, r2, r3, pop[j])\n",
        "\n",
        "            # Ohodnoceni trial vektoru a pripadne nahrazeni aktualnich\n",
        "            for j in range(self.pop_size):\n",
        "\n",
        "                # Vypocet fitness trial vektoru\n",
        "                obj_trial, net_trial = self.obj(trial_vectors[j])\n",
        "\n",
        "                # Nahrazeni target vektoru, pokud trial dosahuje lepsich hodnot\n",
        "                if obj_trial <= obj_all[j]:\n",
        "                    pop[j] = trial_vectors[j]  # Nahrazeni vektoru\n",
        "                    obj_all[j] = obj_trial  # Nahrazeni fitness\n",
        "                    trained_nets[j] = net_trial  # Nahrazeni natrenovane site\n",
        "\n",
        "                pbar.update(1)\n",
        "\n",
        "            pbar.close()\n",
        "\n",
        "            # Nalezeni noveho nejlepsiho reseni\n",
        "            best_obj = min(obj_all)\n",
        "\n",
        "            # Aktualizace nejlepsiho reseni\n",
        "            if best_obj < prev_obj:\n",
        "                best_vector = pop[argmin(obj_all)]\n",
        "                prev_obj = best_obj\n",
        "                best_net = trained_nets[argmin(obj_all)]\n",
        "\n",
        "                # Informovani o novem nejlepsim reseni\n",
        "                print('Nest best solution:', best_vector, ', fitness =', best_obj)\n",
        "\n",
        "            # Ulozeni nejlepsi fitness v dane iteraci\n",
        "            obj_iter.append(best_obj)\n",
        "\n",
        "        # Navraceni nejlepsiho reseni, jeho fitness a historie nejlepsi fitness\n",
        "        return best_vector, best_obj, obj_iter, best_net"
      ],
      "metadata": {
        "id": "Mnq4V7acy30r"
      },
      "execution_count": 5,
      "outputs": []
    },
    {
      "cell_type": "markdown",
      "source": [
        "Hlavní funkce pro nalezení optimálních parametrů neuronové sítě."
      ],
      "metadata": {
        "id": "gXgbFm5fQ7GF"
      }
    },
    {
      "cell_type": "code",
      "source": [
        "def find_params(generations, pop_size, cr, F, train_size, test_size, bounds):\n",
        "\n",
        "    # Inicializace diferencialni evoluce pro optimalizaci KNN\n",
        "    print('Starting initialisation of DE...')\n",
        "    de = DE(pop_size, cr, F, train_size, test_size, bounds)\n",
        "    print('DE initialisation done.')\n",
        "\n",
        "    # Provedeni optimalizace\n",
        "    print('Starting the run of diferential evolution...')\n",
        "    best_vector, best_obj, obj_hist, FINAL_NET = de.differential_evolution(generations)\n",
        "    print('\\nDiferential evolution done\\n')\n",
        "\n",
        "    # Tisk prubehu chyby v prubehu evoluce\n",
        "    plt.plot(obj_hist)\n",
        "    plt.title(\"Best error over iterations\")\n",
        "    plt.xlabel(\"Iteration\")\n",
        "    plt.ylabel(\"Error\")\n",
        "    plt.show()\n",
        "\n",
        "    # Tisk nejlepsich parametru a jejich fitness\n",
        "    print('Best fitness:', best_obj, '\\nBest vector of params', best_vector, '\\n')\n",
        "    print_params_vector(best_vector)\n",
        "\n",
        "    # Ukonceni pokud nebyla nalezena zadna funkcni sit\n",
        "    if FINAL_NET == None:\n",
        "        print('No net to test!!!')\n",
        "        return\n",
        "\n",
        "    # Vytisknuti parametru site pomoci Keras\n",
        "    print(FINAL_NET.summary())\n",
        "\n",
        "    # Evaluace site ziskane nejlepsimi parametry na testovacich datech\n",
        "    score = FINAL_NET.evaluate(de.x_test, de.y_test, verbose=0)\n",
        "    print(\"Test loss:\", score[0])\n",
        "    print(\"Test accuracy:\", score[1])\n",
        "\n",
        "    return best_vector"
      ],
      "metadata": {
        "id": "82qciOZ455bX"
      },
      "execution_count": 6,
      "outputs": []
    },
    {
      "cell_type": "markdown",
      "source": [
        "Tisk parametrů navrhovaných pomocí diferenciální evoluce."
      ],
      "metadata": {
        "id": "eiz6Xexg7FeJ"
      }
    },
    {
      "cell_type": "code",
      "source": [
        "def print_params_vector(params):\n",
        "    # Zaokrouhleni hodnot stejne jako pri pouziti v Keras\n",
        "    r_params = rint(params).astype(int)\n",
        "\n",
        "    print('Parametry (vcetne zaokrouhleni kde je pouzito):')\n",
        "    print(str(r_params[0]).rjust(5), 'Pocet filtru 1. konvolucni vrstvy\\n',\n",
        "          str(r_params[1]).rjust(4), 'Sirka kernelu 1. konvolucni vrstvy\\n',\n",
        "          str(r_params[2]).rjust(4), 'Vyska kernelu 1. konvolucni vrstvy\\n',\n",
        "          str(r_params[3]).rjust(4), 'Sirka poolu 1. pooling vrstvy\\n',\n",
        "          str(r_params[4]).rjust(4), 'Vyska poolu 1. pooling vrstvy\\n',\n",
        "          str(r_params[5]).rjust(4), 'Pocet filtru 2. konvolucni vrstvy\\n',\n",
        "          str(r_params[6]).rjust(4), 'Sirka kernelu 2. konvolucni vrstvy\\n',\n",
        "          str(r_params[7]).rjust(4), 'Vyska kernelu 2. konvolucni vrstvy\\n',\n",
        "          str(r_params[8]).rjust(4), 'Sirka poolu 2. pooling vrstvy\\n',\n",
        "          str(r_params[9]).rjust(4), 'Vyska poolu 2. pooling vrstvy\\n',\n",
        "          str(params[10]).rjust(4), 'Dropout rate\\n',\n",
        "          str(r_params[11]).rjust(4), 'Velikost mini-batche\\n',\n",
        "          str(r_params[12]).rjust(4), 'Pocet epoch\\n',\n",
        "          str(r_params[13]).rjust(4), 'Early-stopping trpelivost\\n',\n",
        "          str(r_params[14]).rjust(4), 'Pocet vrstev neuronove site\\n\\n')"
      ],
      "metadata": {
        "id": "AhRnKxHkpPom"
      },
      "execution_count": 7,
      "outputs": []
    },
    {
      "cell_type": "markdown",
      "source": [
        "Natrénování a otestování KNN na kompletní datové sadě pro finální ověření nalezených parametrů."
      ],
      "metadata": {
        "id": "thdT2AVFeKrx"
      }
    },
    {
      "cell_type": "code",
      "source": [
        "def full_train_and_evaluate(params):\n",
        "\n",
        "    # Vytisknuti pouzitych parametru\n",
        "    print_params_vector(params)\n",
        "\n",
        "    # Nacteni datasetu\n",
        "    num_classes, input_shape, x_train, y_train, x_test, y_test = prep_dataset(60000, 10000)\n",
        "\n",
        "    # Natrenovani KNN\n",
        "    val_loss, model = train(params, num_classes, input_shape, x_train, y_train)\n",
        "\n",
        "    # Tisk parametru site\n",
        "    print(model.summary())\n",
        "    print('Validation loss:', val_loss)\n",
        "\n",
        "    # Evaluace site na testovacich datech\n",
        "    score = model.evaluate(x_test, y_test, verbose=0)\n",
        "    print(\"Test loss:\", score[0])\n",
        "    print(\"Test accuracy:\", score[1])"
      ],
      "metadata": {
        "id": "2VaNEai1dmFO"
      },
      "execution_count": 8,
      "outputs": []
    },
    {
      "cell_type": "markdown",
      "source": [
        "Aplikování diferenciální evoluce na zadaný problém."
      ],
      "metadata": {
        "id": "8sotH6cMQztc"
      }
    },
    {
      "cell_type": "code",
      "source": [
        "params = find_params(generations = 10,  # Pocet iteraci\n",
        "                     pop_size = 7,  # Velikost populace (minimum je 4)\n",
        "                     cr = 0.9,  # Pravdepodobnost krizeni [0; 1]\n",
        "                     F = 0.8,  # Koeficient F [0; 1]\n",
        "                     train_size = 200,  # Pocet vzorku pouzitych k trenovani\n",
        "                     test_size = 100,  # Pocet vzorku pouzitych k testovani reseni\n",
        "                     bounds = asarray([(1, 512),  # Pocet filtru 1. konvolucni vrstvy\n",
        "                                       (1, 5),     # Sirka kernelu 1. konvolucni vrstvy\n",
        "                                       (1, 5),     # Vyska kernelu 1. konvolucni vrstvy\n",
        "                                       (1, 5),     # Sirka poolu 1. pooling vrstvy\n",
        "                                       (1, 5),     # Vyska poolu 1. pooling vrstvy\n",
        "                                       (1, 512),  # Pocet filtru 2. skryte vrstvy\n",
        "                                       (1, 5),     # Sirka kernelu 2. konvolucni vrstvy\n",
        "                                       (1, 5),     # Vyska kernelu 2. konvolucni vrstvy\n",
        "                                       (1, 5),     # Sirka poolu 2. pooling vrstvy\n",
        "                                       (1, 5),     # Vyska poolu 2. pooling vrstvy\n",
        "                                       (0.3, 0.9),   # Dropout rate [0; 1)\n",
        "                                       (20, 100),  # Velikost mini-batche\n",
        "                                       (1, 40),     # Pocet epoch\n",
        "                                       (0, 2),     # Trpelivost pro vcasne ukonceni trenovani\n",
        "                                       (1, 2)]))   # Pocet vrstev neuronove site"
      ],
      "metadata": {
        "id": "AZnuR2Q_6Lre",
        "colab": {
          "base_uri": "https://localhost:8080/",
          "height": 1000
        },
        "outputId": "0994e2b2-3d05-4bc1-b8b4-b8399e897d7b"
      },
      "execution_count": 20,
      "outputs": [
        {
          "output_type": "stream",
          "name": "stdout",
          "text": [
            "Starting initialisation of DE...\n",
            "Input shape: (28, 28, 1)\n",
            "Train samples: 200\n",
            "Test samples: 100\n",
            "DE initialisation done.\n",
            "Starting the run of diferential evolution...\n",
            "Start of initial evaluation...\n",
            "Initial evaluation done.\n",
            "Iteration # 0\n"
          ]
        },
        {
          "output_type": "stream",
          "name": "stderr",
          "text": [
            " 60%|██████    | 3/5 [16:41<11:07, 333.82s/it]\n",
            "100%|██████████| 7/7 [00:29<00:00,  4.26s/it]\n"
          ]
        },
        {
          "output_type": "stream",
          "name": "stdout",
          "text": [
            "Nest best solution: [354.67889853   5.           5.           4.18506192   3.49854011\n",
            " 173.04860833   4.36081366   3.78396185   2.8730252    2.50538141\n",
            "   0.63458259  65.1929553   24.6982322    1.00123425   1.53406873] , fitness = 0.5095051527023315\n",
            "Iteration # 1\n"
          ]
        },
        {
          "output_type": "stream",
          "name": "stderr",
          "text": [
            "100%|██████████| 7/7 [00:16<00:00,  2.42s/it]\n"
          ]
        },
        {
          "output_type": "stream",
          "name": "stdout",
          "text": [
            "Iteration # 2\n"
          ]
        },
        {
          "output_type": "stream",
          "name": "stderr",
          "text": [
            "100%|██████████| 7/7 [00:19<00:00,  2.74s/it]\n"
          ]
        },
        {
          "output_type": "stream",
          "name": "stdout",
          "text": [
            "Iteration # 3\n"
          ]
        },
        {
          "output_type": "stream",
          "name": "stderr",
          "text": [
            "100%|██████████| 7/7 [00:20<00:00,  2.86s/it]\n"
          ]
        },
        {
          "output_type": "stream",
          "name": "stdout",
          "text": [
            "Nest best solution: [263.28533715   4.13285573   4.48605843   1.57902839   2.87910795\n",
            " 370.42512432   2.67238612   2.70683719   2.4907998    2.36344746\n",
            "   0.66326564  63.75639035  20.8473488    0.9274623    1.99383323] , fitness = 0.4569665789604187\n",
            "Iteration # 4\n"
          ]
        },
        {
          "output_type": "stream",
          "name": "stderr",
          "text": [
            "100%|██████████| 7/7 [00:24<00:00,  3.51s/it]\n"
          ]
        },
        {
          "output_type": "stream",
          "name": "stdout",
          "text": [
            "Nest best solution: [389.12424267   4.53126394   4.23376081   1.69372967   2.68474868\n",
            " 398.74009946   2.3379089    2.9044645    2.03360783   1.94882402\n",
            "   0.64176079  60.94155852  18.36698764   1.5795516    2.        ] , fitness = 0.44119125604629517\n",
            "Iteration # 5\n"
          ]
        },
        {
          "output_type": "stream",
          "name": "stderr",
          "text": [
            "100%|██████████| 7/7 [00:20<00:00,  2.91s/it]\n"
          ]
        },
        {
          "output_type": "stream",
          "name": "stdout",
          "text": [
            "Iteration # 6\n"
          ]
        },
        {
          "output_type": "stream",
          "name": "stderr",
          "text": [
            "100%|██████████| 7/7 [00:27<00:00,  3.91s/it]\n"
          ]
        },
        {
          "output_type": "stream",
          "name": "stdout",
          "text": [
            "Iteration # 7\n"
          ]
        },
        {
          "output_type": "stream",
          "name": "stderr",
          "text": [
            "100%|██████████| 7/7 [00:34<00:00,  4.89s/it]\n"
          ]
        },
        {
          "output_type": "stream",
          "name": "stdout",
          "text": [
            "Iteration # 8\n"
          ]
        },
        {
          "output_type": "stream",
          "name": "stderr",
          "text": [
            "100%|██████████| 7/7 [00:22<00:00,  3.20s/it]\n"
          ]
        },
        {
          "output_type": "stream",
          "name": "stdout",
          "text": [
            "Iteration # 9\n"
          ]
        },
        {
          "output_type": "stream",
          "name": "stderr",
          "text": [
            "100%|██████████| 7/7 [00:22<00:00,  3.23s/it]"
          ]
        },
        {
          "output_type": "stream",
          "name": "stdout",
          "text": [
            "Nest best solution: [278.13773576   5.           4.48555643   1.51781771   2.70301175\n",
            " 386.68861216   3.12967288   1.           2.06536892   1.49370022\n",
            "   0.71567332  52.06177688  14.51569348   2.           1.99506658] , fitness = 0.42242488265037537\n",
            "\n",
            "Diferential evolution done\n",
            "\n"
          ]
        },
        {
          "output_type": "stream",
          "name": "stderr",
          "text": [
            "\n"
          ]
        },
        {
          "output_type": "display_data",
          "data": {
            "text/plain": [
              "<Figure size 640x480 with 1 Axes>"
            ],
            "image/png": "[encoded data removed]"
          },
          "metadata": {}
        },
        {
          "output_type": "stream",
          "name": "stdout",
          "text": [
            "Best fitness: 0.42242488265037537 \n",
            "Best vector of params [278.13773576   5.           4.48555643   1.51781771   2.70301175\n",
            " 386.68861216   3.12967288   1.           2.06536892   1.49370022\n",
            "   0.71567332  52.06177688  14.51569348   2.           1.99506658] \n",
            "\n",
            "Parametry (vcetne zaokrouhleni kde je pouzito):\n",
            "  278 Pocet filtru 1. konvolucni vrstvy\n",
            "    5 Sirka kernelu 1. konvolucni vrstvy\n",
            "    4 Vyska kernelu 1. konvolucni vrstvy\n",
            "    2 Sirka poolu 1. pooling vrstvy\n",
            "    3 Vyska poolu 1. pooling vrstvy\n",
            "  387 Pocet filtru 2. konvolucni vrstvy\n",
            "    3 Sirka kernelu 2. konvolucni vrstvy\n",
            "    1 Vyska kernelu 2. konvolucni vrstvy\n",
            "    2 Sirka poolu 2. pooling vrstvy\n",
            "    1 Vyska poolu 2. pooling vrstvy\n",
            " 0.7156733189389127 Dropout rate\n",
            "   52 Velikost mini-batche\n",
            "   15 Pocet epoch\n",
            "    2 Early-stopping trpelivost\n",
            "    2 Pocet vrstev neuronove site\n",
            "\n",
            "\n",
            "Model: \"sequential_334\"\n",
            "_________________________________________________________________\n",
            " Layer (type)                Output Shape              Param #   \n",
            "=================================================================\n",
            " conv2d_668 (Conv2D)         (None, 24, 25, 278)       5838      \n",
            "                                                                 \n",
            " max_pooling2d_659 (MaxPool  (None, 12, 8, 278)        0         \n",
            " ing2D)                                                          \n",
            "                                                                 \n",
            " conv2d_669 (Conv2D)         (None, 10, 8, 387)        323145    \n",
            "                                                                 \n",
            " max_pooling2d_660 (MaxPool  (None, 5, 8, 387)         0         \n",
            " ing2D)                                                          \n",
            "                                                                 \n",
            " flatten_280 (Flatten)       (None, 15480)             0         \n",
            "                                                                 \n",
            " dropout_280 (Dropout)       (None, 15480)             0         \n",
            "                                                                 \n",
            " dense_280 (Dense)           (None, 10)                154810    \n",
            "                                                                 \n",
            "=================================================================\n",
            "Total params: 483793 (1.85 MB)\n",
            "Trainable params: 483793 (1.85 MB)\n",
            "Non-trainable params: 0 (0.00 Byte)\n",
            "_________________________________________________________________\n",
            "None\n",
            "Test loss: 0.8270609974861145\n",
            "Test accuracy: 0.8299999833106995\n"
          ]
        }
      ]
    },
    {
      "cell_type": "markdown",
      "source": [
        "Ověření nalezených parametrů na kompletní datové sadě."
      ],
      "metadata": {
        "id": "nv_MPHrje5MP"
      }
    },
    {
      "cell_type": "code",
      "source": [
        "full_train_and_evaluate(params)"
      ],
      "metadata": {
        "id": "ioIWZNkTe1nO",
        "colab": {
          "base_uri": "https://localhost:8080/"
        },
        "outputId": "e652d425-bd1b-4e5d-a630-3e77668ccf19"
      },
      "execution_count": null,
      "outputs": [
        {
          "output_type": "stream",
          "name": "stdout",
          "text": [
            "Parametry (vcetne zaokrouhleni kde je pouzito):\n",
            "  278 Pocet filtru 1. konvolucni vrstvy\n",
            "    5 Sirka kernelu 1. konvolucni vrstvy\n",
            "    4 Vyska kernelu 1. konvolucni vrstvy\n",
            "    2 Sirka poolu 1. pooling vrstvy\n",
            "    3 Vyska poolu 1. pooling vrstvy\n",
            "  387 Pocet filtru 2. konvolucni vrstvy\n",
            "    3 Sirka kernelu 2. konvolucni vrstvy\n",
            "    1 Vyska kernelu 2. konvolucni vrstvy\n",
            "    2 Sirka poolu 2. pooling vrstvy\n",
            "    1 Vyska poolu 2. pooling vrstvy\n",
            " 0.7156733189389127 Dropout rate\n",
            "   52 Velikost mini-batche\n",
            "   15 Pocet epoch\n",
            "    2 Early-stopping trpelivost\n",
            "    2 Pocet vrstev neuronove site\n",
            "\n",
            "\n",
            "Input shape: (28, 28, 1)\n",
            "Train samples: 60000\n",
            "Test samples: 10000\n"
          ]
        }
      ]
    },
    {
      "cell_type": "markdown",
      "source": [
        "Autor:<br>\n",
        "Ing. Martin Hurta\n",
        "\n",
        "Použité zdroje:<br>\n",
        "* Bidlo. M. Aplikované evoluční algoritmy - Diferenciální evoluce \\[prezentace\\] EVO, Fakulta informačních technologií, Vysoké učení technické v Brně.\n",
        "* Team, K. (n.d.). Keras: Deep Learning for humans. https://keras.io/\n",
        "* Machine Learning Mastery. (2021, October 25). Machine Learning Mastery. MachineLearningMastery.com. https://machinelearningmastery.com/\n",
        "* Wikipedia contributors. (2022, November 3). Differential evolution. Wikipedia. https://en.wikipedia.org/wiki/Differential_evolution\n"
      ],
      "metadata": {
        "id": "LztUzDFYgDRM"
      }
    }
  ]
}